{
 "cells": [
  {
   "cell_type": "code",
   "execution_count": 5,
   "metadata": {},
   "outputs": [
    {
     "name": "stdout",
     "output_type": "stream",
     "text": [
      "Accuracy: 0.5936675461741425\n",
      "Classification Report:\n",
      "               precision    recall  f1-score   support\n",
      "\n",
      "early_preterm       0.00      0.00      0.00       154\n",
      "      preterm       0.59      1.00      0.75       225\n",
      "\n",
      "     accuracy                           0.59       379\n",
      "    macro avg       0.30      0.50      0.37       379\n",
      " weighted avg       0.35      0.59      0.44       379\n",
      "\n"
     ]
    },
    {
     "name": "stderr",
     "output_type": "stream",
     "text": [
      "c:\\Users\\Emiliano\\AppData\\Local\\Programs\\Python\\Python312\\Lib\\site-packages\\sklearn\\metrics\\_classification.py:1531: UndefinedMetricWarning: Precision is ill-defined and being set to 0.0 in labels with no predicted samples. Use `zero_division` parameter to control this behavior.\n",
      "  _warn_prf(average, modifier, f\"{metric.capitalize()} is\", len(result))\n",
      "c:\\Users\\Emiliano\\AppData\\Local\\Programs\\Python\\Python312\\Lib\\site-packages\\sklearn\\metrics\\_classification.py:1531: UndefinedMetricWarning: Precision is ill-defined and being set to 0.0 in labels with no predicted samples. Use `zero_division` parameter to control this behavior.\n",
      "  _warn_prf(average, modifier, f\"{metric.capitalize()} is\", len(result))\n",
      "c:\\Users\\Emiliano\\AppData\\Local\\Programs\\Python\\Python312\\Lib\\site-packages\\sklearn\\metrics\\_classification.py:1531: UndefinedMetricWarning: Precision is ill-defined and being set to 0.0 in labels with no predicted samples. Use `zero_division` parameter to control this behavior.\n",
      "  _warn_prf(average, modifier, f\"{metric.capitalize()} is\", len(result))\n"
     ]
    }
   ],
   "source": [
    "import pandas as pd\n",
    "from sklearn.model_selection import train_test_split\n",
    "from sklearn.linear_model import LogisticRegression\n",
    "from sklearn.metrics import classification_report, accuracy_score\n",
    "from sklearn.preprocessing import LabelEncoder\n",
    "\n",
    "# Cargar el archivo de datos\n",
    "file_path = r\"C:\\SS\\datosSynapse\\Training\\Training\\metadata\\metadata.csv\"\n",
    "data = pd.read_csv(file_path)\n",
    "\n",
    "\n",
    "# Crear la columna de 'birth_type' basado en el tipo de parto\n",
    "data['birth_type'] = data.apply(\n",
    "    lambda row: 'term' if row['was_term'] else 'preterm' if row['was_preterm'] else 'early_preterm', axis=1\n",
    ")\n",
    "\n",
    "# Codificar la variable objetivo 'birth_type'\n",
    "label_encoder = LabelEncoder()\n",
    "data['birth_type_encoded'] = label_encoder.fit_transform(data['birth_type'])\n",
    "\n",
    "# Codificar la columna 'NIH Racial Category' como la única característica\n",
    "feature_race = label_encoder.fit_transform(data['NIH Racial Category'].fillna(\"Unknown\")).reshape(-1, 1)\n",
    "target_birth_type = data['birth_type_encoded'].values\n",
    "\n",
    "# Dividir los datos en conjuntos de entrenamiento y prueba\n",
    "X_train, X_test, y_train, y_test = train_test_split(feature_race, target_birth_type, test_size=0.2, random_state=42)\n",
    "\n",
    "# Entrenar el modelo de regresión logística\n",
    "model = LogisticRegression(max_iter=200)\n",
    "model.fit(X_train, y_train)\n",
    "\n",
    "# Realizar predicciones\n",
    "y_pred = model.predict(X_test)\n",
    "\n",
    "# Generar el reporte de clasificación, adaptando los nombres de las clases\n",
    "unique_labels = sorted(set(y_test))\n",
    "target_names = ['early_preterm', 'preterm', 'term']\n",
    "report = classification_report(y_test, y_pred, target_names=[target_names[i] for i in unique_labels])\n",
    "\n",
    "# Mostrar precisión y reporte de clasificación\n",
    "accuracy = accuracy_score(y_test, y_pred)\n",
    "print(f\"Accuracy: {accuracy}\")\n",
    "print(\"Classification Report:\")\n",
    "print(report)\n"
   ]
  },
  {
   "cell_type": "markdown",
   "metadata": {},
   "source": [
    " #### Accuracy o Precisión Global:\n",
    " proporción de predicciones correctas entre el total de predicciones realizadas. \n",
    " En este caso, el modelo tiene un 59.37% de precisión, lo cual significa que aproximadamente el 59% de las predicciones fueron correctas en el conjunto de prueba.\n"
   ]
  },
  {
   "cell_type": "markdown",
   "metadata": {},
   "source": [
    "## Métricas por Clase\n",
    "Cada clase (early_preterm, preterm) tiene sus propias métricas. Estas incluyen:\n",
    "\n",
    "#### Precision: Mide la exactitud de las predicciones positivas de cada clase.\n",
    "\n",
    "En la clase preterm, la precisión es 0.59 (59%), lo que significa que este modelo cuando predijo \"preterm\", el 59% de esas predicciones fueron correctas.\n",
    "La precisión para early_preterm es 0.00, indicando que el modelo no acertó ninguna vez cuando predijo esta clase.\n",
    "\n",
    "\n",
    "#### Recall  o Sensibilidad : Mide la proporción de verdaderos positivos que fueron correctamente identificados.\n",
    "\n",
    "Para la clase preterm, el recall es 1.00 (100%), lo cual significa que el modelo identificó todos los casos preterm correctamente.\n",
    "El recall para early_preterm es 0.00, lo que indica que el modelo no logró identificar correctamente ningún caso de esta clase.\n",
    "\n",
    "#### F1-score: Es la media armónica entre precisión y recall. Proporciona un balance entre estos dos valores.\n",
    "\n",
    "Para preterm, el F1-score es 0.75, lo que refleja un balance entre su precisión y recall.\n",
    "Para early_preterm, el F1-score es 0.00, lo que muestra que el modelo tiene un desempeño pobre muy miserable jajajaja en esta clase.\n",
    "\n",
    "#### Support: Es la cantidad de instancias verdaderas en cada clase en el conjunto de prueba.\n",
    "\n",
    "En este caso, hay 154 instancias de early_preterm y 225 de preterm."
   ]
  },
  {
   "cell_type": "markdown",
   "metadata": {},
   "source": [
    "##P romedios\n",
    "#### Macro Avg: Calcula el promedio de precisión, recall y F1-score sin ponderar por la cantidad de ejemplos en cada clase. Es útil cuando todas las clases son igualmente importantes.\n",
    "#### Weighted Avg: Promedia precisión, recall y F1-score ponderando por el soporte de cada clase. En este caso, refleja mejor la efectividad del modelo en función de la distribución de clases."
   ]
  },
  {
   "cell_type": "markdown",
   "metadata": {},
   "source": [
    "el modelo es eficaz solo para la clase preterm y no logra identificar correctamente los casos early_preterm. Esto se debe a que solo se utilizó NIH Racial Category como característica, lo cual limita mucho la capacidad del modelo para distinguir entre los tipos de parto."
   ]
  }
 ],
 "metadata": {
  "kernelspec": {
   "display_name": "Python 3",
   "language": "python",
   "name": "python3"
  },
  "language_info": {
   "codemirror_mode": {
    "name": "ipython",
    "version": 3
   },
   "file_extension": ".py",
   "mimetype": "text/x-python",
   "name": "python",
   "nbconvert_exporter": "python",
   "pygments_lexer": "ipython3",
   "version": "3.12.6"
  }
 },
 "nbformat": 4,
 "nbformat_minor": 2
}
