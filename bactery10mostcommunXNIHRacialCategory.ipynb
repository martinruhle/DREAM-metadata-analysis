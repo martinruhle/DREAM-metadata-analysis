{
 "cells": [
  {
   "cell_type": "code",
   "execution_count": null,
   "metadata": {},
   "outputs": [],
   "source": [
    "import pandas as pd\n",
    "\n",
    "# Cargar el archivo metadata\n",
    "metadata_file_path = '/content/metadata.csv'\n",
    "metadata_df = pd.read_csv(metadata_file_path)\n",
    "\n",
    "# Cargar el archivo de taxonomía\n",
    "taxonomy_file_path = '/content/taxonomy_relabd.species.csv'\n",
    "taxonomy_df = pd.read_csv(taxonomy_file_path)\n",
    "\n",
    "# Obtener los grupos únicos de 'NIH Racial Category'\n",
    "nih_racial_categories_unique = metadata_df['NIH Racial Category'].unique()\n",
    "\n",
    "# Inicializar un diccionario para almacenar los resultados\n",
    "nih_racial_bacteria_summary = {}\n",
    "\n",
    "# Iterar sobre cada categoría única de 'NIH Racial Category'\n",
    "for category in nih_racial_categories_unique:\n",
    "    # Filtrar la metadata para la categoría actual\n",
    "    category_df = metadata_df[metadata_df['NIH Racial Category'] == category]\n",
    "    \n",
    "    # Filtrar los datos de taxonomía para los especímenes que coinciden con la categoría actual\n",
    "    filtered_taxonomy_df = taxonomy_df[taxonomy_df['specimen'].isin(category_df['specimen'])]\n",
    "    \n",
    "    # Calcular las bacterias más comunes\n",
    "    most_common_bacteria = filtered_taxonomy_df.iloc[:, 1:].mean().sort_values(ascending=False).head(10)\n",
    "    \n",
    "    # Almacenar el resultado en el diccionario\n",
    "    nih_racial_bacteria_summary[category] = most_common_bacteria\n",
    "\n",
    "# Mostrar los resultados para cada categoría\n",
    "nih_racial_bacteria_summary\n",
    "\n",
    "\n",
    "\n"
   ]
  }
 ],
 "metadata": {
  "language_info": {
   "name": "python"
  }
 },
 "nbformat": 4,
 "nbformat_minor": 2
}
